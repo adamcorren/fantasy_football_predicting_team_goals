{
 "cells": [
  {
   "cell_type": "markdown",
   "id": "6fc73299",
   "metadata": {},
   "source": [
    "# Fantasy Football - Predicting Team Goals"
   ]
  },
  {
   "cell_type": "markdown",
   "id": "34f5d839",
   "metadata": {},
   "source": [
    "In this notebook, we use the dataset from the previous notebook to create a BayesianRidge linear regression model. This model helps us predict the number of goals a team will score and concede in future matches."
   ]
  },
  {
   "cell_type": "code",
   "execution_count": 1,
   "id": "01c0ece4",
   "metadata": {},
   "outputs": [],
   "source": [
    "import pandas as pd\n",
    "import warnings\n",
    "from functools import reduce\n",
    "import itertools\n",
    "import numpy as np\n",
    "import sklearn.preprocessing as preprocessing\n",
    "import sklearn.model_selection as model_selection\n",
    "from sklearn import linear_model\n",
    "from sklearn.model_selection import train_test_split, cross_val_score\n",
    "from sklearn import linear_model\n",
    "\n",
    "warnings.filterwarnings(\"ignore\")\n",
    "pd.set_option('display.max_columns', None)\n",
    "pd.set_option('display.max_rows', None)"
   ]
  },
  {
   "cell_type": "markdown",
   "id": "7ec681c8",
   "metadata": {},
   "source": [
    "Importing data."
   ]
  },
  {
   "cell_type": "code",
   "execution_count": 2,
   "id": "e7699d17",
   "metadata": {},
   "outputs": [],
   "source": [
    "team_fixture_data_with_team_elos = pd.read_csv('data/wrangled_data_final.csv')"
   ]
  },
  {
   "cell_type": "code",
   "execution_count": 3,
   "id": "e1b5c5fb",
   "metadata": {},
   "outputs": [],
   "source": [
    "team_fixture_data_with_team_elos.head()"
   ]
  },
  {
   "cell_type": "markdown",
   "id": "6285bfd2",
   "metadata": {},
   "source": [
    "Assessing the accuracy of various models by comparing their performance using 3, 5, and 10 expected and actual form features."
   ]
  },
  {
   "cell_type": "code",
   "execution_count": 4,
   "id": "fe98e4ee",
   "metadata": {},
   "outputs": [],
   "source": [
    "kind  = ['xg_3', 'xg_5', 'xg_10', 'actual_3', 'actual_5', 'actual_10']\n",
    "\n",
    "for k in kind:\n",
    "    x = team_fixture_data_with_team_elos[['fpl_game_week', 'team_elo', 'opponent_elo', f'team_goals_scored_{k}game_form',\n",
    "                   f'opponent_goals_conceded_{k}game_form', 'elodiff', 'home']]\n",
    "\n",
    "    x = x[x.columns[0:]] \n",
    "    ss = preprocessing.StandardScaler()\n",
    "    x = pd.DataFrame(ss.fit_transform(x),columns = x.columns)\n",
    "\n",
    "    y = team_fixture_data_with_team_elos.team_goals\n",
    "\n",
    "    x_train, x_test, y_train, y_test = model_selection.train_test_split(\n",
    "        x, y, train_size=0.75, test_size=0.25, random_state=1)\n",
    "\n",
    "    reg_bay = linear_model.BayesianRidge()\n",
    "    reg_bay.fit(x_train, y_train)\n",
    "\n",
    "    cv_mae = cross_val_score(reg_bay, x_train, y_train, cv=10,scoring='neg_mean_absolute_error')\n",
    "    cv_rmse = cross_val_score(reg_bay, x_train, y_train, cv=10,scoring='neg_root_mean_squared_error')\n",
    "    cv_r2 = cross_val_score(reg_bay, x_train, y_train, cv=10,scoring='r2')\n",
    "    print(f'{k}, MAE =',round(cv_mae.mean(),4))\n",
    "    print(f'{k}, RSME =',round(cv_rmse.mean(),4))\n",
    "    print(f'{k}, R2 =',round(cv_r2.mean(),4))\n",
    "    print('----------------------')"
   ]
  },
  {
   "cell_type": "markdown",
   "id": "f28be064",
   "metadata": {},
   "source": [
    "After comparing different models and features, BayesianRidge linear regression using 5 game xg form with the features outlined below produces the best results."
   ]
  },
  {
   "cell_type": "code",
   "execution_count": 5,
   "id": "3b595737",
   "metadata": {},
   "outputs": [],
   "source": [
    "x = team_fixture_data_with_team_elos[['fpl_game_week', 'team_elo', 'opponent_elo', f'team_goals_scored_xg_5game_form',\n",
    "               f'opponent_goals_conceded_xg_5game_form', 'elodiff', 'home']]\n",
    "\n",
    "x = x[x.columns[0:]] \n",
    "ss = preprocessing.StandardScaler()\n",
    "x = pd.DataFrame(ss.fit_transform(x),columns = x.columns)\n",
    "\n",
    "y = team_fixture_data_with_team_elos.team_goals\n",
    "\n",
    "x_train, x_test, y_train, y_test = model_selection.train_test_split(\n",
    "    x, y, train_size=0.75, test_size=0.25, random_state=1)\n",
    "\n",
    "reg_bay = linear_model.BayesianRidge()\n",
    "reg_bay.fit(x_train, y_train)"
   ]
  },
  {
   "cell_type": "markdown",
   "id": "4e3f78bd",
   "metadata": {},
   "source": [
    "Importance of each feature used"
   ]
  },
  {
   "cell_type": "code",
   "execution_count": 6,
   "id": "01a62974",
   "metadata": {},
   "outputs": [],
   "source": [
    "print(x.columns)\n",
    "importance = reg_bay.coef_\n",
    "for i, v in enumerate(importance):\n",
    "    print(f'Feature: %0d, Score: %.5f' % (i, v))  "
   ]
  },
  {
   "cell_type": "markdown",
   "id": "b0f31002",
   "metadata": {},
   "source": [
    "Fitting model do data set resulting in predicted goals scored columns."
   ]
  },
  {
   "cell_type": "code",
   "execution_count": 7,
   "id": "2ff0097e",
   "metadata": {},
   "outputs": [],
   "source": [
    "team_fixture_data_with_team_elos['pred_goals_scored'] = reg_bay.predict(x)"
   ]
  },
  {
   "cell_type": "code",
   "execution_count": 8,
   "id": "13b2cea5",
   "metadata": {},
   "outputs": [],
   "source": [
    "team_fixture_data_with_team_elos[['fpl_game_week', 'team', 'opponent', 'team_goals', 'pred_goals_scored']].head()"
   ]
  },
  {
   "cell_type": "markdown",
   "id": "ac1c370b",
   "metadata": {},
   "source": [
    "On average, our model exhibits a deviation of 0.8984 goals from the actual goals scored. Considering that we employ team goals as a metric for predicting player points, it is not necessary for this metric to be absolutely precise. Rather, it serves as a reliable indicator of team performance and the efficacy of their offensive and defensive units in any given gameweek.\n",
    "\n",
    "Since football is a zero-sum game, \n",
    "the number of goals one team scores will be equal to \n",
    "the number of goals the opposing team concedes. \n",
    "Therefore, once we can predict the goals scored by \n",
    "each team, we can also predict the goals conceded."
   ]
  },
  {
   "cell_type": "code",
   "execution_count": 9,
   "id": "68c42622",
   "metadata": {},
   "outputs": [],
   "source": [
    "match_team_1 = team_fixture_data_with_team_elos.query('home==1')[['game_id', 'pred_goals_scored', 'home', 'team']]\n",
    "match_team_2 = team_fixture_data_with_team_elos.query('home==0')[['game_id', 'pred_goals_scored', 'home', 'team']]"
   ]
  },
  {
   "cell_type": "code",
   "execution_count": 10,
   "id": "4e396d97",
   "metadata": {},
   "outputs": [],
   "source": [
    "combine = pd.merge(match_team_1,match_team_2, on='game_id')"
   ]
  },
  {
   "cell_type": "code",
   "execution_count": 11,
   "id": "1a8cca0e",
   "metadata": {},
   "outputs": [],
   "source": [
    "combine.head()"
   ]
  },
  {
   "cell_type": "code",
   "execution_count": 12,
   "id": "f559d835",
   "metadata": {},
   "outputs": [],
   "source": [
    "team_fixture_data_with_team_elos = pd.merge(team_fixture_data_with_team_elos, combine[['game_id', 'pred_goals_scored_x', 'pred_goals_scored_y']], on='game_id')"
   ]
  },
  {
   "cell_type": "code",
   "execution_count": 13,
   "id": "18f19082",
   "metadata": {},
   "outputs": [],
   "source": [
    "team_fixture_data_with_team_elos[['fpl_game_week', 'team', 'opponent', 'team_goals', 'pred_goals_scored', 'pred_goals_scored_x', 'pred_goals_scored_y']].head()"
   ]
  },
  {
   "cell_type": "markdown",
   "id": "e656a0f3",
   "metadata": {},
   "source": [
    "Renaming columns and removing negative values for goals predicted."
   ]
  },
  {
   "cell_type": "code",
   "execution_count": 14,
   "id": "b891bf03",
   "metadata": {},
   "outputs": [],
   "source": [
    "team_fixture_data_with_team_elos = (team_fixture_data_with_team_elos\n",
    "                                    .assign(pred_goals_conceded=team_fixture_data_with_team_elos['pred_goals_scored_x'])\n",
    "                                    .assign(pred_goals_conceded=lambda x: x['pred_goals_conceded'].where(x['pred_goals_scored_x'] != x['pred_goals_scored'], x['pred_goals_scored_y']))\n",
    "                                    .assign(pred_goals_conceded=lambda x: x['pred_goals_conceded'].clip(lower=0.119887576083739))\n",
    "                                    .assign(pred_goals_scored=lambda x: x['pred_goals_scored'].clip(lower=0.119887576083739))\n",
    "                                    .drop(columns=['pred_goals_scored_x', 'pred_goals_scored_y']))"
   ]
  },
  {
   "cell_type": "code",
   "execution_count": 15,
   "id": "5bbb68c9",
   "metadata": {},
   "outputs": [],
   "source": [
    "team_fixture_data_with_team_elos[['fpl_game_week', 'team', 'opponent', 'team_goals', 'pred_goals_scored', 'pred_goals_conceded']].head()"
   ]
  },
  {
   "cell_type": "markdown",
   "id": "64761677",
   "metadata": {},
   "source": [
    "We have successfully generated predictions for goals scored and conceded for every game using the available data. However, as we are required to forecast FPL teams well in advance of each game, rather than just before each game week, we need to predict goals scored and conceded for each specific game based on past game data from all preceding weeks. For example, in GW10, we will predict the goals scored and conceded from GW10 until the end of the season using game data from GW1 to GW9. "
   ]
  },
  {
   "cell_type": "code",
   "execution_count": 16,
   "id": "d253f3d7",
   "metadata": {},
   "outputs": [],
   "source": [
    "final_team_data = team_fixture_data_with_team_elos[['season', 'fpl_game_week', 'date', 'team', 'opponent', 'game_id', 'team_elo', 'opponent_elo', 'elodiff', 'home', 'team_goals_scored_xg_5game_form', 'team_goals_conceded_xg_5game_form', 'opponent_goals_conceded_xg_5game_form', 'team_goals', 'opponent_goals']]"
   ]
  },
  {
   "cell_type": "code",
   "execution_count": 17,
   "id": "1c089fe1",
   "metadata": {
    "scrolled": true
   },
   "outputs": [],
   "source": [
    "final_team_data.head()"
   ]
  },
  {
   "cell_type": "code",
   "execution_count": 18,
   "id": "2743369a",
   "metadata": {},
   "outputs": [],
   "source": [
    "game_weeks = [i for i in range(1,39)]"
   ]
  },
  {
   "cell_type": "code",
   "execution_count": 19,
   "id": "0288668a",
   "metadata": {},
   "outputs": [],
   "source": [
    "# loop over game weeks\n",
    "for week in game_weeks:\n",
    "    path = '2018-19'\n",
    "    \n",
    "    #get current form and future games we need to predict goals for based on current form\n",
    "    current_form = final_team_data.query(f'fpl_game_week <= {week} & season == \"2018-2019\"')[['team', 'team_elo', 'team_goals_scored_xg_5game_form', 'team_goals_conceded_xg_5game_form']].drop_duplicates(subset='team', keep='last')\n",
    "    future_games = final_team_data.query(f'fpl_game_week >= {week} & season == \"2018-2019\"')[['fpl_game_week', 'date', 'team', 'opponent', 'home']]\n",
    "    \n",
    "    # convert future and current form into data set that matches model format\n",
    "    predict_future_goals = (current_form\n",
    "                            .merge(future_games, on='team', how='outer')\n",
    "                            .merge(current_form, left_on='opponent', right_on='team', how='outer')\n",
    "                            .set_axis(['team', 'team_elo', 'team_goals_scored_xg_5game_form', 'team_goals_conceded_xg_5game_form', \n",
    "                                       'fpl_game_week', 'date', 'opponent', 'home', 'opponent_2', 'opponent_elo', \n",
    "                                       'opponent_goals_scored_xg_5game_form', 'opponent_goals_conceded_xg_5game_form'], axis='columns')\n",
    "                            .drop(columns=['team_goals_conceded_xg_5game_form', 'opponent_2', 'opponent_goals_scored_xg_5game_form'])\n",
    "                            .sort_values(by='fpl_game_week')\n",
    "                            .reset_index(drop=True)\n",
    "                            .assign(elodiff=lambda x: x['team_elo'] - x['opponent_elo'])\n",
    "                            .dropna())\n",
    "    \n",
    "    # add predicted goals scored for all future matches based on current form\n",
    "    x = predict_future_goals[['fpl_game_week', 'team_elo', 'opponent_elo', 'team_goals_scored_xg_5game_form',\n",
    "                   'opponent_goals_conceded_xg_5game_form', 'elodiff', 'home']]\n",
    "    \n",
    "    x = x[x.columns[0:]] \n",
    "    ss = preprocessing.StandardScaler()\n",
    "    x = pd.DataFrame(ss.fit_transform(x),columns = x.columns)\n",
    "\n",
    "    predict_future_goals['pred_goals_scored'] = reg_bay.predict(x)\n",
    "    \n",
    "    # add goals conceded and adjust for when teams have multiple matches in a single game week\n",
    "    add_goals_conceded = (predict_future_goals[['team', 'pred_goals_scored', 'fpl_game_week', 'date']]\n",
    "                          .merge(predict_future_goals[['opponent', 'pred_goals_scored', 'fpl_game_week']], \n",
    "                                 left_on=['fpl_game_week', 'team'], \n",
    "                                 right_on=['fpl_game_week', 'opponent'])\n",
    "                          .loc[:, ['date', 'fpl_game_week', 'team', 'pred_goals_scored_x', 'pred_goals_scored_y']]\n",
    "                          .rename(columns={'pred_goals_scored_x': 'pred_goals_scored', 'pred_goals_scored_y': 'pred_goals_conceded'})\n",
    "                          .groupby(['team', 'fpl_game_week'])\n",
    "                          .agg(count=('team', 'count'), \n",
    "                               team=('team', 'first'), \n",
    "                               fpl_gw=('fpl_game_week', 'first'), \n",
    "                               date=('date', 'first'), \n",
    "                               scored=('pred_goals_scored', 'mean'), \n",
    "                               conceded=('pred_goals_conceded', 'mean'))\n",
    "                          .assign(scored=lambda x: x['scored'].where(x['count'] != 4, x['scored'] * 2))\n",
    "                          .assign(conceded=lambda x: x['conceded'].where(x['count'] != 4, x['conceded'] * 2))\n",
    "                          .assign(count=lambda x: x['count'].where(x['count'] != 4, 2)))\n",
    "    \n",
    "    # export predictions\n",
    "    add_goals_conceded.to_csv(f'predicting_weekly_team_goals/{path}/game_week_{week}.csv', index=False)"
   ]
  },
  {
   "cell_type": "markdown",
   "id": "fe8c4277",
   "metadata": {},
   "source": [
    "Having obtained the predicted goals scored and conceded for every game played by a team, we are now ready to progress to the next notebook, where we will focus on predicting specific FPL player points."
   ]
  }
 ],
 "metadata": {
  "kernelspec": {
   "display_name": "Python 3 (ipykernel)",
   "language": "python",
   "name": "python3"
  },
  "language_info": {
   "codemirror_mode": {
    "name": "ipython",
    "version": 3
   },
   "file_extension": ".py",
   "mimetype": "text/x-python",
   "name": "python",
   "nbconvert_exporter": "python",
   "pygments_lexer": "ipython3",
   "version": "3.10.11"
  }
 },
 "nbformat": 4,
 "nbformat_minor": 5
}
